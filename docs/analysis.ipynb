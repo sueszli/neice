{
 "cells": [
  {
   "cell_type": "code",
   "execution_count": 18,
   "metadata": {},
   "outputs": [
    {
     "name": "stdout",
     "output_type": "stream",
     "text": [
      "missing: 6\n",
      "estimated time left: 1h 0m 0s\n"
     ]
    }
   ],
   "source": [
    "def get_current_dir():\n",
    "    import os\n",
    "    from pathlib import Path\n",
    "    try:\n",
    "        return Path(__file__).parent.absolute()\n",
    "    except NameError:\n",
    "        return Path(os.getcwd())\n",
    "\n",
    "path = get_current_dir().parent / \"data\" / \"results.csv\"\n",
    "\n",
    "import pandas as pd\n",
    "df = pd.read_csv(path)\n",
    "\n",
    "# experiments from paper:\n",
    "# - alpha_ent: 0.30 0.40\n",
    "# - k: 20 50 100 200 (default=500 is not used in paper)\n",
    "# - alpha_word: 0.2 0.3 0.4 0.5\n",
    "\n",
    "# common values for undefined parameters:\n",
    "# - n_topics: 10 20 50 100\n",
    "# - n_neighbours: 5 10 20 500\n",
    "\n",
    "missing = 0\n",
    "for n_topics in [10, 20, 50, 100]:\n",
    "    for n_neighbours in [5, 10, 20, 500]:\n",
    "        for alpha_ent in [0.30, 0.40]:\n",
    "            for k in [20, 50, 100, 200]:\n",
    "                for alpha_word in [0.2, 0.3, 0.4, 0.5]:\n",
    "                    mask = (df.n_topics == n_topics) & (df.n_neighbours == n_neighbours) & (df.alpha_ent == alpha_ent) & (df.k == k) & (df.alpha_word == alpha_word)\n",
    "                    if not df[mask].empty:\n",
    "                        continue\n",
    "                    missing += 1\n",
    "cycle_time_s = 600\n",
    "print(f\"missing: {missing}\")\n",
    "print(f\"estimated time left: {missing * cycle_time_s // 3600}h {missing * cycle_time_s % 3600 // 60}m {missing * cycle_time_s % 60}s\")"
   ]
  },
  {
   "cell_type": "code",
   "execution_count": null,
   "metadata": {},
   "outputs": [],
   "source": []
  }
 ],
 "metadata": {
  "kernelspec": {
   "display_name": ".venv",
   "language": "python",
   "name": "python3"
  },
  "language_info": {
   "codemirror_mode": {
    "name": "ipython",
    "version": 3
   },
   "file_extension": ".py",
   "mimetype": "text/x-python",
   "name": "python",
   "nbconvert_exporter": "python",
   "pygments_lexer": "ipython3",
   "version": "3.11.9"
  }
 },
 "nbformat": 4,
 "nbformat_minor": 2
}
