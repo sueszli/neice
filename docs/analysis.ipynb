{
 "cells": [
  {
   "cell_type": "code",
   "execution_count": 13,
   "metadata": {
    "vscode": {
     "languageId": "r"
    }
   },
   "outputs": [],
   "source": [
    "pkgs <- c(\"ISLR\", \"gclus\", \"assertthat\", \"ggplot2\")\n",
    "for (p in pkgs) {\n",
    "    if (!requireNamespace(p, quietly = TRUE)) install.packages(p, repos = \"https://cran.rstudio.com\")\n",
    "    library(p, character.only = TRUE)\n",
    "}\n",
    "\n",
    "options(repr.plot.width=20, repr.plot.height=5)\n",
    "\n",
    "options(scipen=999)\n",
    "set.seed(42)"
   ]
  },
  {
   "cell_type": "code",
   "execution_count": 14,
   "metadata": {
    "vscode": {
     "languageId": "r"
    }
   },
   "outputs": [
    {
     "data": {
      "text/html": [
       "<table class=\"dataframe\">\n",
       "<caption>A data.frame: 6 × 7</caption>\n",
       "<thead>\n",
       "\t<tr><th></th><th scope=col>alpha_ent</th><th scope=col>k</th><th scope=col>n_topics</th><th scope=col>n_neighbours</th><th scope=col>alpha_word</th><th scope=col>score_deezer</th><th scope=col>score_itunes</th></tr>\n",
       "\t<tr><th></th><th scope=col>&lt;dbl&gt;</th><th scope=col>&lt;int&gt;</th><th scope=col>&lt;int&gt;</th><th scope=col>&lt;int&gt;</th><th scope=col>&lt;dbl&gt;</th><th scope=col>&lt;dbl&gt;</th><th scope=col>&lt;dbl&gt;</th></tr>\n",
       "</thead>\n",
       "<tbody>\n",
       "\t<tr><th scope=row>1</th><td>0.3</td><td>20</td><td>10</td><td> 5</td><td>0.2</td><td>48.6781</td><td>51.6682</td></tr>\n",
       "\t<tr><th scope=row>2</th><td>0.3</td><td>20</td><td>10</td><td> 5</td><td>0.3</td><td>48.6781</td><td>51.6682</td></tr>\n",
       "\t<tr><th scope=row>3</th><td>0.3</td><td>20</td><td>10</td><td> 5</td><td>0.4</td><td>49.6023</td><td>50.9951</td></tr>\n",
       "\t<tr><th scope=row>4</th><td>0.3</td><td>20</td><td>10</td><td> 5</td><td>0.5</td><td>49.8568</td><td>48.9428</td></tr>\n",
       "\t<tr><th scope=row>5</th><td>0.3</td><td>20</td><td>10</td><td>10</td><td>0.2</td><td>52.9038</td><td>51.3696</td></tr>\n",
       "\t<tr><th scope=row>6</th><td>0.3</td><td>20</td><td>10</td><td>10</td><td>0.3</td><td>52.9038</td><td>51.3696</td></tr>\n",
       "</tbody>\n",
       "</table>\n"
      ],
      "text/latex": [
       "A data.frame: 6 × 7\n",
       "\\begin{tabular}{r|lllllll}\n",
       "  & alpha\\_ent & k & n\\_topics & n\\_neighbours & alpha\\_word & score\\_deezer & score\\_itunes\\\\\n",
       "  & <dbl> & <int> & <int> & <int> & <dbl> & <dbl> & <dbl>\\\\\n",
       "\\hline\n",
       "\t1 & 0.3 & 20 & 10 &  5 & 0.2 & 48.6781 & 51.6682\\\\\n",
       "\t2 & 0.3 & 20 & 10 &  5 & 0.3 & 48.6781 & 51.6682\\\\\n",
       "\t3 & 0.3 & 20 & 10 &  5 & 0.4 & 49.6023 & 50.9951\\\\\n",
       "\t4 & 0.3 & 20 & 10 &  5 & 0.5 & 49.8568 & 48.9428\\\\\n",
       "\t5 & 0.3 & 20 & 10 & 10 & 0.2 & 52.9038 & 51.3696\\\\\n",
       "\t6 & 0.3 & 20 & 10 & 10 & 0.3 & 52.9038 & 51.3696\\\\\n",
       "\\end{tabular}\n"
      ],
      "text/markdown": [
       "\n",
       "A data.frame: 6 × 7\n",
       "\n",
       "| <!--/--> | alpha_ent &lt;dbl&gt; | k &lt;int&gt; | n_topics &lt;int&gt; | n_neighbours &lt;int&gt; | alpha_word &lt;dbl&gt; | score_deezer &lt;dbl&gt; | score_itunes &lt;dbl&gt; |\n",
       "|---|---|---|---|---|---|---|---|\n",
       "| 1 | 0.3 | 20 | 10 |  5 | 0.2 | 48.6781 | 51.6682 |\n",
       "| 2 | 0.3 | 20 | 10 |  5 | 0.3 | 48.6781 | 51.6682 |\n",
       "| 3 | 0.3 | 20 | 10 |  5 | 0.4 | 49.6023 | 50.9951 |\n",
       "| 4 | 0.3 | 20 | 10 |  5 | 0.5 | 49.8568 | 48.9428 |\n",
       "| 5 | 0.3 | 20 | 10 | 10 | 0.2 | 52.9038 | 51.3696 |\n",
       "| 6 | 0.3 | 20 | 10 | 10 | 0.3 | 52.9038 | 51.3696 |\n",
       "\n"
      ],
      "text/plain": [
       "  alpha_ent k  n_topics n_neighbours alpha_word score_deezer score_itunes\n",
       "1 0.3       20 10        5           0.2        48.6781      51.6682     \n",
       "2 0.3       20 10        5           0.3        48.6781      51.6682     \n",
       "3 0.3       20 10        5           0.4        49.6023      50.9951     \n",
       "4 0.3       20 10        5           0.5        49.8568      48.9428     \n",
       "5 0.3       20 10       10           0.2        52.9038      51.3696     \n",
       "6 0.3       20 10       10           0.3        52.9038      51.3696     "
      ]
     },
     "metadata": {},
     "output_type": "display_data"
    },
    {
     "data": {
      "text/plain": [
       "   alpha_ent         k            n_topics      n_neighbours     alpha_word   \n",
       " Min.   :0.3   Min.   : 20.0   Min.   : 10.0   Min.   :  5.0   Min.   :0.200  \n",
       " 1st Qu.:0.3   1st Qu.: 20.0   1st Qu.: 10.0   1st Qu.:  5.0   1st Qu.:0.275  \n",
       " Median :0.3   Median : 50.0   Median : 20.0   Median : 10.0   Median :0.350  \n",
       " Mean   :0.3   Mean   : 62.4   Mean   : 43.6   Mean   :128.7   Mean   :0.350  \n",
       " 3rd Qu.:0.3   3rd Qu.:100.0   3rd Qu.: 50.0   3rd Qu.: 20.0   3rd Qu.:0.425  \n",
       " Max.   :0.3   Max.   :200.0   Max.   :100.0   Max.   :500.0   Max.   :0.500  \n",
       "  score_deezer    score_itunes  \n",
       " Min.   :47.91   Min.   :47.63  \n",
       " 1st Qu.:50.46   1st Qu.:50.09  \n",
       " Median :52.09   Median :51.43  \n",
       " Mean   :52.14   Mean   :51.27  \n",
       " 3rd Qu.:53.48   3rd Qu.:52.58  \n",
       " Max.   :56.58   Max.   :54.40  "
      ]
     },
     "metadata": {},
     "output_type": "display_data"
    }
   ],
   "source": [
    "results <- read.csv(\"../data/results.csv\")\n",
    "head(results)\n",
    "summary(results)"
   ]
  },
  {
   "cell_type": "code",
   "execution_count": null,
   "metadata": {
    "vscode": {
     "languageId": "r"
    }
   },
   "outputs": [],
   "source": [
    "# experiments from paper:\n",
    "# - alpha_ent: 0.30 0.40\n",
    "# - k: 20 50 100 200 (default=500 is not used in paper)\n",
    "# - alpha_word: 0.2 0.3 0.4 0.5\n",
    "\n",
    "# common values for undefined parameters:\n",
    "# - n_topics: 10 20 50 100\n",
    "# - n_neighbours: 5 10 20 500"
   ]
  }
 ],
 "metadata": {
  "kernelspec": {
   "display_name": "R",
   "language": "R",
   "name": "ir"
  },
  "language_info": {
   "codemirror_mode": "r",
   "file_extension": ".r",
   "mimetype": "text/x-r-source",
   "name": "R",
   "pygments_lexer": "r",
   "version": "4.4.1"
  }
 },
 "nbformat": 4,
 "nbformat_minor": 2
}
