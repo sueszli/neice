{
 "cells": [
  {
   "cell_type": "code",
   "execution_count": 23,
   "metadata": {},
   "outputs": [],
   "source": [
    "def get_current_dir():\n",
    "    import os\n",
    "    from pathlib import Path\n",
    "    try:\n",
    "        return Path(__file__).parent.absolute()\n",
    "    except NameError:\n",
    "        return Path(os.getcwd())\n",
    "\n",
    "path = get_current_dir().parent / \"data\" / \"results.csv\"\n",
    "\n",
    "import pandas as pd\n",
    "df = pd.read_csv(path)\n",
    "\n",
    "# from table in paper\n",
    "for alpha_ent in [0.30, 0.40]:\n",
    "    for alpha_word in [0.2, 0.3, 0.4, 0.5]:\n",
    "        for k in [20, 50, 100, 200]:\n",
    "\n",
    "            # common values\n",
    "            for n_topics in [10, 20, 50, 100]:\n",
    "                for n_neighbours in [5, 10, 20, 500]: # 500 is just default in code\n",
    "\n",
    "                    # assert exists\n",
    "                    mask = (df.n_topics == n_topics) & (df.n_neighbours == n_neighbours) & (df.alpha_ent == alpha_ent) & (df.k == k) & (df.alpha_word == alpha_word)\n",
    "                    assert not df[mask].empty"
   ]
  },
  {
   "cell_type": "code",
   "execution_count": null,
   "metadata": {},
   "outputs": [],
   "source": [
    "# from table in paper\n",
    "for alpha_ent in [0.30, 0.40]:\n",
    "    for alpha_word in [0.2, 0.3, 0.4, 0.5]:\n",
    "        for k in [20, 50, 100, 200]:\n",
    "\n",
    "            \n",
    "\n",
    "            # common values\n",
    "            for n_topics in [10, 20, 50, 100]:\n",
    "                for n_neighbours in [5, 10, 20, 500]: # 500 is just default in code\n",
    "\n",
    "                    # assert exists\n",
    "                    mask = (df.n_topics == n_topics) & (df.n_neighbours == n_neighbours) & (df.alpha_ent == alpha_ent) & (df.k == k) & (df.alpha_word == alpha_word)\n",
    "                    assert not df[mask].empty"
   ]
  }
 ],
 "metadata": {
  "kernelspec": {
   "display_name": ".venv",
   "language": "python",
   "name": "python3"
  },
  "language_info": {
   "codemirror_mode": {
    "name": "ipython",
    "version": 3
   },
   "file_extension": ".py",
   "mimetype": "text/x-python",
   "name": "python",
   "nbconvert_exporter": "python",
   "pygments_lexer": "ipython3",
   "version": "3.11.9"
  }
 },
 "nbformat": 4,
 "nbformat_minor": 2
}
