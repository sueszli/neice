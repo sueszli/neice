{
 "cells": [
  {
   "cell_type": "code",
   "execution_count": 27,
   "metadata": {},
   "outputs": [],
   "source": [
    "def get_current_dir():\n",
    "    import os\n",
    "    from pathlib import Path\n",
    "    try:\n",
    "        return Path(__file__).parent.absolute()\n",
    "    except NameError:\n",
    "        return Path(os.getcwd())\n",
    "\n",
    "results = get_current_dir().parent / \"data\" / \"results.csv\"\n",
    "results_authors = get_current_dir().parent / \"data\" / \"results-authors.csv\"\n",
    "\n",
    "import pandas as pd\n",
    "actual = pd.read_csv(results)\n",
    "expected = pd.read_csv(results_authors)\n",
    "\n",
    "# from table in paper\n",
    "for alpha_ent in [0.30, 0.40]:\n",
    "    for alpha_word in [0.2, 0.3, 0.4, 0.5]:\n",
    "        for k in [20, 50, 100, 200]:\n",
    "\n",
    "            assert expected[\n",
    "                (expected[\"alpha_ent\"] == alpha_ent) &\n",
    "                (expected[\"alpha_word\"] == alpha_word) &\n",
    "                (expected[\"k\"] == k)\n",
    "            ].shape[0] == 1\n",
    "\n",
    "            # common values\n",
    "            for n_topics in [10, 20, 50, 100]:\n",
    "                for n_neighbours in [5, 10, 20, 500]: # 500 is just default in code\n",
    "\n",
    "                    assert actual[\n",
    "                        (actual[\"alpha_ent\"] == alpha_ent) &\n",
    "                        (actual[\"alpha_word\"] == alpha_word) &\n",
    "                        (actual[\"k\"] == k) &\n",
    "                        (actual[\"n_topics\"] == n_topics) &\n",
    "                        (actual[\"n_neighbours\"] == n_neighbours)\n",
    "                    ].shape[0] == 1"
   ]
  },
  {
   "cell_type": "code",
   "execution_count": null,
   "metadata": {},
   "outputs": [],
   "source": [
    "\"\"\"\n",
    "i'm trying to reproduce results from a paper. some parameters were defined, for others i had to guess the hyperparameters.\n",
    "\n",
    "i have the expected scores and the actual scores.\n",
    "\n",
    "i want to conduct statistical tests for reproducibility. (significance tests, confidence intervals, p values, variance, check if they could be from the same distribution, etc.)\n",
    "\n",
    "i also want to visualize differences between the expected and actual scores in a plot.\n",
    "\"\"\"\n",
    "\n",
    "# from table in paper\n",
    "for alpha_ent in [0.30, 0.40]:\n",
    "    for alpha_word in [0.2, 0.3, 0.4, 0.5]:\n",
    "        for k in [20, 50, 100, 200]:\n",
    "            expected_row = expected[(expected[\"alpha_ent\"] == alpha_ent) & (expected[\"alpha_word\"] == alpha_word) & (expected[\"k\"] == k)]\n",
    "\n",
    "            expected_score_deezer = expected_row[\"score_deezer\"].values[0]\n",
    "            expected_score_score_itunes = expected_row[\"score_itunes\"].values[0]\n",
    "\n",
    "            # hyperparam search\n",
    "            for n_topics in [10, 20, 50, 100]:\n",
    "                for n_neighbours in [5, 10, 20, 500]:\n",
    "                    actual_row = actual[(actual[\"alpha_ent\"] == alpha_ent) & (actual[\"alpha_word\"] == alpha_word) & (actual[\"k\"] == k) & (actual[\"n_topics\"] == n_topics) & (actual[\"n_neighbours\"] == n_neighbours)]\n",
    "\n",
    "                    actual_score_deezer = actual_row[\"score_deezer\"].values[0]\n",
    "                    actual_score_itunes = actual_row[\"score_itunes\"].values[0]\n",
    "\n",
    "\n"
   ]
  },
  {
   "cell_type": "code",
   "execution_count": null,
   "metadata": {},
   "outputs": [],
   "source": []
  }
 ],
 "metadata": {
  "kernelspec": {
   "display_name": ".venv",
   "language": "python",
   "name": "python3"
  },
  "language_info": {
   "codemirror_mode": {
    "name": "ipython",
    "version": 3
   },
   "file_extension": ".py",
   "mimetype": "text/x-python",
   "name": "python",
   "nbconvert_exporter": "python",
   "pygments_lexer": "ipython3",
   "version": "3.11.9"
  }
 },
 "nbformat": 4,
 "nbformat_minor": 2
}
